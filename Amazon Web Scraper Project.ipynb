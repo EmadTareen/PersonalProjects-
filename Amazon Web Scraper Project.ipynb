{
 "cells": [
  {
   "cell_type": "code",
   "execution_count": 1,
   "id": "1530eb26",
   "metadata": {},
   "outputs": [],
   "source": [
    "# import libraries\n",
    "\n",
    "from bs4 import BeautifulSoup\n",
    "import requests\n",
    "import time\n",
    "import datetime\n",
    "\n",
    "import smtplib"
   ]
  },
  {
   "cell_type": "code",
   "execution_count": 21,
   "id": "55213922",
   "metadata": {},
   "outputs": [
    {
     "name": "stdout",
     "output_type": "stream",
     "text": [
      "$22.99\n"
     ]
    }
   ],
   "source": [
    "# Connect to Website and pull in data\n",
    "\n",
    "URL = 'https://www.amazon.com/Eastry-Middle-Earth%C2%A1%C2%AFs-Annual-T-Shirt/dp/B07RZQKX4P/ref=sr_1_1_sspa?_encoding=UTF8&content-id=amzn1.sym.09483392-9ac6-434a-a3d7-39d83662f54a&keywords=gaming+apparel&pd_rd_r=0fd07f68-92f9-4eff-b1e9-77e67d76dc27&pd_rd_w=K8HbQ&pd_rd_wg=zoTJQ&pf_rd_p=09483392-9ac6-434a-a3d7-39d83662f54a&pf_rd_r=5NQFC9P9QP65Z7VJB7Y0&qid=1707769899&sr=8-1-spons&sp_csd=d2lkZ2V0TmFtZT1zcF9hdGY&psc=1'\n",
    "\n",
    "headers = {\"User-Agent\": \"Mozilla/5.0 (Windows NT 10.0; Win64; x64) AppleWebKit/537.36 (KHTML, like Gecko) Chrome/121.0.0.0 Safari/537.36\", \"Accept-Encoding\":\"gzip, deflate\", \"Accept\":\"text/html,application/xhtml+xml,application/xml;q=0.9,*/*;q=0.8\", \"DNT\":\"1\",\"Connection\":\"close\", \"Upgrade-Insecure-Requests\":\"1\"}\n",
    "Data Analyst Portfolio Projects\n",
    "\n",
    "page = requests.get(URL, headers=headers)\n",
    "\n",
    "##Pulls content from page\n",
    "\n",
    "#Soup pulls all of the HTML data\n",
    "soup1 = BeautifulSoup(page.content, \"html.parser\")\n",
    "\n",
    "##Prettify makes things look better\n",
    "soup2 = BeautifulSoup(soup1.prettify(), \"html.parser\")\n",
    "\n",
    "title = soup2.find(id='productTitle').get_text()\n",
    "\n",
    "##price = soup2.find(class=\"a-size-base a-color-base\").get_text()\n",
    "##price_element = soup2.find('span', class_='a-size-base a-color-base')\n",
    "##if price_element is not None:\n",
    "##    price = price_element.get_text().strip()\n",
    "##else:\n",
    "##    price = \"Price not found\"\n",
    "\n",
    "price_elements = soup2.find_all('span', class_='a-size-base a-color-base')\n",
    "prices = [price.get_text(strip=True) for price in price_elements]\n",
    "prices=prices[1]\n",
    "\n",
    "print (prices)"
   ]
  },
  {
   "cell_type": "code",
   "execution_count": 28,
   "id": "966804fc",
   "metadata": {},
   "outputs": [
    {
     "name": "stdout",
     "output_type": "stream",
     "text": [
      "Eastry Middle Earth¡¯s Annual Mordor Fun Run one Does not Simply Walk T-Shirt for Men\n",
      "22.99\n"
     ]
    }
   ],
   "source": [
    "price=prices.strip()[1:]\n",
    "title = title.strip()\n",
    "\n",
    "print (title)\n",
    "print (price)"
   ]
  },
  {
   "cell_type": "code",
   "execution_count": null,
   "id": "ee67aff6",
   "metadata": {},
   "outputs": [],
   "source": [
    "import datetime \n",
    "\n",
    "\n",
    "today = datetime.date.today()\n",
    "print (today)\n",
    "\n",
    "\n"
   ]
  },
  {
   "cell_type": "code",
   "execution_count": 30,
   "id": "e2384a40",
   "metadata": {},
   "outputs": [],
   "source": [
    "\n",
    "import csv\n",
    "\n",
    "header = ['Title', 'Price', 'Date']\n",
    "data = [title, price, today]\n",
    "\n",
    "with open ('AmazonWebScraperDataSet.csv','w',newline='', encoding= 'UTf8') as f:\n",
    "    writer=csv.writer(f)\n",
    "    writer.writerow(header)\n",
    "    writer.writerow(data)\n",
    "    \n"
   ]
  },
  {
   "cell_type": "code",
   "execution_count": 34,
   "id": "61df83d1",
   "metadata": {},
   "outputs": [
    {
     "name": "stdout",
     "output_type": "stream",
     "text": [
      "                                               Title  Price        Date\n",
      "0  Eastry Middle Earth¡¯s Annual Mordor Fun Run o...  22.99  2024-02-12\n",
      "1  Eastry Middle Earth¡¯s Annual Mordor Fun Run o...  22.99  2024-02-12\n",
      "2  Eastry Middle Earth¡¯s Annual Mordor Fun Run o...  22.99  2024-02-12\n"
     ]
    }
   ],
   "source": [
    "import pandas as pd \n",
    "df=pd.read_csv(r'C:\\Users\\taree\\AmazonWebScraperDataSet.csv')\n",
    "print(df)\n"
   ]
  },
  {
   "cell_type": "code",
   "execution_count": null,
   "id": "d3b9210f",
   "metadata": {},
   "outputs": [],
   "source": [
    "#Appending Data To CSV\n",
    "\n",
    "with open ('AmazonWebScraperDataSet.csv','a+',newline='', encoding= 'UTf8') as f:\n",
    "    writer=csv.writer(f)\n",
    "    writer.writerow(data)\n",
    "    "
   ]
  },
  {
   "cell_type": "code",
   "execution_count": null,
   "id": "93496643",
   "metadata": {},
   "outputs": [],
   "source": [
    "def check_price():\n",
    "    URL = 'https://www.amazon.com/Eastry-Middle-Earth%C2%A1%C2%AFs-Annual-T-Shirt/dp/B07RZQKX4P/ref=sr_1_1_sspa?_encoding=UTF8&content-id=amzn1.sym.09483392-9ac6-434a-a3d7-39d83662f54a&keywords=gaming+apparel&pd_rd_r=0fd07f68-92f9-4eff-b1e9-77e67d76dc27&pd_rd_w=K8HbQ&pd_rd_wg=zoTJQ&pf_rd_p=09483392-9ac6-434a-a3d7-39d83662f54a&pf_rd_r=5NQFC9P9QP65Z7VJB7Y0&qid=1707769899&sr=8-1-spons&sp_csd=d2lkZ2V0TmFtZT1zcF9hdGY&psc=1'\n",
    "\n",
    "    headers = {\"User-Agent\": \"Mozilla/5.0 (Windows NT 10.0; Win64; x64) AppleWebKit/537.36 (KHTML, like Gecko) Chrome/121.0.0.0 Safari/537.36\", \"Accept-Encoding\":\"gzip, deflate\", \"Accept\":\"text/html,application/xhtml+xml,application/xml;q=0.9,*/*;q=0.8\", \"DNT\":\"1\",\"Connection\":\"close\", \"Upgrade-Insecure-Requests\":\"1\"}\n",
    "\n",
    "    page = requests.get(URL, headers=headers)\n",
    "\n",
    "##Pulls content from page\n",
    "\n",
    "#Soup pulls all of the HTML data\n",
    "    soup1 = BeautifulSoup(page.content, \"html.parser\")\n",
    "\n",
    "##Prettify makes things look better\n",
    "    soup2 = BeautifulSoup(soup1.prettify(), \"html.parser\")\n",
    "\n",
    "    title = soup2.find(id='productTitle').get_text()\n",
    "\n",
    "##price = soup2.find(class=\"a-size-base a-color-base\").get_text()\n",
    "##price_element = soup2.find('span', class_='a-size-base a-color-base')\n",
    "##if price_element is not None:\n",
    "##    price = price_element.get_text().strip()\n",
    "##else:\n",
    "##    price = \"Price not found\"\n",
    "\n",
    "    price_elements = soup2.find_all('span', class_='a-size-base a-color-base')\n",
    "    prices = [price.get_text(strip=True) for price in price_elements]\n",
    "    prices=prices[1]\n",
    "    \n",
    "    price=prices.strip()[1:]\n",
    "    title = title.strip()\n",
    "    \n",
    "    import datetime \n",
    "    today = datetime.date.today()\n",
    "    \n",
    "    \n",
    "    import csv\n",
    "    header = ['Title', 'Price', 'Date']\n",
    "    data = [title, price, today]\n",
    "    \n",
    "    with open ('AmazonWebScraperDataSet.csv','a+',newline='', encoding= 'UTf8') as f:\n",
    "        writer=csv.writer(f)\n",
    "        writer.writerow(data)\n",
    "    \n",
    "    if (price< 14)\n",
    "        send_mail()\n",
    "    \n",
    "    "
   ]
  },
  {
   "cell_type": "code",
   "execution_count": null,
   "id": "5d33b330",
   "metadata": {},
   "outputs": [],
   "source": [
    "while(True): \n",
    "    check_price()\n",
    "    time.sleep(86400)"
   ]
  },
  {
   "cell_type": "code",
   "execution_count": null,
   "id": "98a8408c",
   "metadata": {},
   "outputs": [],
   "source": [
    "import pandas as pd \n",
    "df=pd.read_csv(r'C:\\Users\\taree\\AmazonWebScraperDataSet.csv')\n",
    "print(df)"
   ]
  },
  {
   "cell_type": "code",
   "execution_count": null,
   "id": "ead1cca2",
   "metadata": {},
   "outputs": [],
   "source": [
    "# sending yourself an email (just for fun) when a price hits below a certain level you can try it\n",
    "# out with this script\n",
    "\n",
    "def send_mail():\n",
    "    server = smtplib.SMTP_SSL('smtp.gmail.com',465)\n",
    "    server.ehlo()\n",
    "    #server.starttls()\n",
    "    server.ehlo()\n",
    "    server.login('tareenemad@gmail.com','xxxxxxxxxxxxxx')\n",
    "    \n",
    "    subject = \"The Shirt you want is below $15! Now is your chance to buy!\"\n",
    "    body = \"Emad, This is the moment we have been waiting for. Now is your chance to pick up the shirt of your dreams. Don't mess it up! Link here: https://www.amazon.com/Funny-Data-Systems-Business-Analyst/dp/B07FNW9FGJ/ref=sr_1_3?dchild=1&keywords=data+analyst+tshirt&qid=1626655184&sr=8-3\"\n",
    "   \n",
    "    msg = f\"Subject: {subject}\\n\\n{body}\"\n",
    "    \n",
    "    server.sendmail(\n",
    "        'AlexTheAnalyst95@gmail.com',\n",
    "        msg\n",
    "     \n",
    "    )"
   ]
  },
  {
   "cell_type": "code",
   "execution_count": null,
   "id": "33d938d1",
   "metadata": {},
   "outputs": [],
   "source": []
  },
  {
   "cell_type": "code",
   "execution_count": null,
   "id": "9a257253",
   "metadata": {},
   "outputs": [],
   "source": []
  }
 ],
 "metadata": {
  "kernelspec": {
   "display_name": "Python 3 (ipykernel)",
   "language": "python",
   "name": "python3"
  },
  "language_info": {
   "codemirror_mode": {
    "name": "ipython",
    "version": 3
   },
   "file_extension": ".py",
   "mimetype": "text/x-python",
   "name": "python",
   "nbconvert_exporter": "python",
   "pygments_lexer": "ipython3",
   "version": "3.11.5"
  }
 },
 "nbformat": 4,
 "nbformat_minor": 5
}
